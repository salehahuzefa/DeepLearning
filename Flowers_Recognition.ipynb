{
  "nbformat": 4,
  "nbformat_minor": 0,
  "metadata": {
    "colab": {
      "name": "Flowers_Recognition.ipynb",
      "provenance": [],
      "collapsed_sections": [],
      "toc_visible": true
    },
    "kernelspec": {
      "display_name": "Python 3",
      "language": "python",
      "name": "python3"
    },
    "language_info": {
      "codemirror_mode": {
        "name": "ipython",
        "version": 3
      },
      "file_extension": ".py",
      "mimetype": "text/x-python",
      "name": "python",
      "nbconvert_exporter": "python",
      "pygments_lexer": "ipython3",
      "version": "3.7.6"
    }
  },
  "cells": [
    {
      "cell_type": "markdown",
      "metadata": {
        "id": "BXgJ6uT1NydQ"
      },
      "source": [
        "Assignment: Flowers Recognition <br>\n",
        "Dataset Description:<br>\n",
        "\n",
        "This dataset contains 4242 images of flowers.<br>\n",
        "The data collection is based on the data flicr, google images, yandex images.<br>\n",
        "You can use this datastet to recognize plants from the photo.<br>\n",
        "\n",
        "Attribute Information:<br>\n",
        "The pictures are divided into five classes: chamomile, tulip, rose, sunflower, dandelion.<br>\n",
        "For each class there are about 800 photos. Photos are not high resolution, about 320x240 pixels. <br>\n",
        "<b>Also explore how to resize images in tensorflow and then resize all the images to a same size. </b> <br>\n",
        "This is a Multiclass Classification Problem.<br>\n",
        "\n",
        "\n"
      ]
    },
    {
      "cell_type": "markdown",
      "metadata": {
        "id": "T7vy-ktuOKJH"
      },
      "source": [
        "WORKFLOW : <br>\n",
        "Load Data <br>\n",
        "Split into 60 and 40 ratio.<br>\n",
        "Encode labels.<br>\n",
        "Create Model<br>\n",
        "Compilation Step (Note : Its a Multiclass Classification problem , select loss , metrics according to it)<br>\n",
        "Train the Model.<br>\n",
        "If the model gets overfit tune your model by changing the units , No. of layers , epochs , add dropout layer or add Regularizer according to the need .<br>\n",
        "Prediction should be > 85%<br>\n",
        "Evaluation Step<br>\n",
        "Prediction<br>\n",
        "\n",
        "\n"
      ]
    },
    {
      "cell_type": "code",
      "metadata": {
        "colab": {
          "base_uri": "https://localhost:8080/"
        },
        "id": "O4C15MlbD3Gq",
        "outputId": "c46770db-39b9-4b28-e352-9e5d08f9acfd"
      },
      "source": [
        "from google.colab import drive\n",
        "drive.mount('/content/drive')"
      ],
      "execution_count": null,
      "outputs": [
        {
          "output_type": "stream",
          "text": [
            "Mounted at /content/drive\n"
          ],
          "name": "stdout"
        }
      ]
    },
    {
      "cell_type": "code",
      "metadata": {
        "id": "FQnCugflZJUe"
      },
      "source": [
        "# import libraries\n",
        "import numpy as np\n",
        "import pandas as pd\n",
        "import matplotlib.pyplot as plt\n",
        "import keras\n",
        "import tensorflow as tf\n",
        "\n",
        "from keras.preprocessing import image\n",
        "from keras.utils.np_utils import to_categorical\n",
        "from keras.models import Sequential\n",
        "from keras.optimizers import Adam\n",
        "from keras import layers\n",
        "from sklearn.model_selection import train_test_split\n",
        "\n",
        "import os\n",
        "import cv2"
      ],
      "execution_count": null,
      "outputs": []
    },
    {
      "cell_type": "code",
      "metadata": {
        "colab": {
          "base_uri": "https://localhost:8080/"
        },
        "id": "hTtg3WuGTA1o",
        "outputId": "dbe418a5-4bec-48c4-8faf-d44cb4dcafc8"
      },
      "source": [
        "# Check folders in flower directory\n",
        "import os\n",
        "DIR='drive/My Drive/Colab Notebooks/flowers'\n",
        "print(os.listdir(DIR))"
      ],
      "execution_count": null,
      "outputs": [
        {
          "output_type": "stream",
          "text": [
            "['dandelion', 'rose', 'tulip', 'sunflower', 'daisy']\n"
          ],
          "name": "stdout"
        }
      ]
    },
    {
      "cell_type": "code",
      "metadata": {
        "id": "5nzuUH1wFqei"
      },
      "source": [
        "# Load flower images\n",
        "# Convert flower images to grayscale\n",
        "# Resize gray scale images\n",
        "# Images are converted into tensors\n",
        "flower_data=[]\n",
        "\n",
        "IMG_SIZE=50\n",
        "\n",
        "FLOWER_TULIP_DIR='drive/My Drive/Colab Notebooks/flowers/tulip'\n",
        "FLOWER_DANDELION_DIR='drive/My Drive/Colab Notebooks/flowers/dandelion'\n",
        "FLOWER_ROSE_DIR='drive/My Drive/Colab Notebooks/flowers/rose'\n",
        "FLOWER_SUNFLOWER_DIR='drive/My Drive/Colab Notebooks/flowers/sunflower'\n",
        "FLOWER_DAISY_DIR='drive/My Drive/Colab Notebooks/flowers/daisy'\n",
        "\n",
        "def make_train_data(flower_type,DIR):\n",
        "  for filepath in os.listdir(DIR):\n",
        "    name, extension = os.path.splitext(filepath)\n",
        "    if(extension!='.jpg'):\n",
        "      continue\n",
        "    \n",
        "    path=os.path.join(DIR,filepath)\n",
        "    img_arr=cv2.imread(path,cv2.IMREAD_GRAYSCALE)\n",
        "    new_arr=cv2.resize(img_arr,(IMG_SIZE,IMG_SIZE))\n",
        "    \n",
        "    flower_data.append([new_arr,str(flower_type)])\n",
        "   \n",
        "    \n",
        "    "
      ],
      "execution_count": null,
      "outputs": []
    },
    {
      "cell_type": "code",
      "metadata": {
        "id": "10NrDlFDJL5v"
      },
      "source": [
        "# Load each flower folder one by one\n",
        "make_train_data('daisy',FLOWER_DAISY_DIR)\n",
        "make_train_data('dandelion',FLOWER_DANDELION_DIR)\n",
        "make_train_data('rose',FLOWER_ROSE_DIR)\n",
        "make_train_data('sunflower',FLOWER_SUNFLOWER_DIR)\n",
        "make_train_data('tulip',FLOWER_TULIP_DIR)"
      ],
      "execution_count": null,
      "outputs": []
    },
    {
      "cell_type": "code",
      "metadata": {
        "id": "AINdCBs9UH2a"
      },
      "source": [
        "# Shuffle flower data\n",
        "np.random.seed(1234)\n",
        "np.random.shuffle(flower_data)\n",
        "\n",
        "# Separate input and output\n",
        "X=[]\n",
        "Y=[]\n",
        "\n",
        "for sample in flower_data:\n",
        "  X.append(sample[0])\n",
        "  Y.append(sample[1])\n",
        "\n",
        "# Reshape each input into a vector form (50*50,)\n",
        "X=np.array(X)\n",
        "X=X.reshape((X.shape[0],IMG_SIZE*IMG_SIZE))\n",
        "\n",
        "# hot encode output\n",
        "# vectorize output\n",
        "Y=pd.Series(Y)\n",
        "Y=Y.astype('category').cat.codes\n",
        "Y=to_categorical(Y)\n",
        "\n"
      ],
      "execution_count": null,
      "outputs": []
    },
    {
      "cell_type": "code",
      "metadata": {
        "colab": {
          "base_uri": "https://localhost:8080/"
        },
        "id": "dLVzcyrccmBF",
        "outputId": "8ae78518-3165-437b-d29d-6972376ce7b8"
      },
      "source": [
        "print(X.shape)\n",
        "print(Y.shape)"
      ],
      "execution_count": null,
      "outputs": [
        {
          "output_type": "stream",
          "text": [
            "(4323, 2500)\n",
            "(4323, 5)\n"
          ],
          "name": "stdout"
        }
      ]
    },
    {
      "cell_type": "code",
      "metadata": {
        "id": "rrNl9gaBctcP"
      },
      "source": [
        "# Change datatype of input and output to float type\n",
        "X=X.astype('float64')/255\n",
        "Y=Y.astype('float64')"
      ],
      "execution_count": null,
      "outputs": []
    },
    {
      "cell_type": "code",
      "metadata": {
        "id": "YGLVhzUKdHFh"
      },
      "source": [
        "# Split data into training and testing\n",
        "x_train,x_test,y_train,y_test=train_test_split(X,Y,test_size=0.4,random_state=42)"
      ],
      "execution_count": null,
      "outputs": []
    },
    {
      "cell_type": "code",
      "metadata": {
        "id": "gWzYoWz7gkS2"
      },
      "source": [
        "#Split data into training and validation\n",
        "x_train,x_val,y_train,y_val=train_test_split(x_train,y_train,test_size=0.3,random_state=42)"
      ],
      "execution_count": null,
      "outputs": []
    },
    {
      "cell_type": "code",
      "metadata": {
        "colab": {
          "base_uri": "https://localhost:8080/"
        },
        "id": "R5t53C2Nd03j",
        "outputId": "f849ee26-dfc2-4cf2-bed4-e27735c8bfd5"
      },
      "source": [
        "# shape of train inputs and output\n",
        "print(x_train.shape)\n",
        "print(y_train.shape)\n",
        "\n",
        "# shape of test inputs and output\n",
        "print(x_test.shape)\n",
        "print(y_test.shape)\n",
        "\n",
        "# shape of validation inputs and output\n",
        "print(x_val.shape)\n",
        "print(y_val.shape)"
      ],
      "execution_count": null,
      "outputs": [
        {
          "output_type": "stream",
          "text": [
            "(1815, 2500)\n",
            "(1815, 5)\n",
            "(1730, 2500)\n",
            "(1730, 5)\n",
            "(778, 2500)\n",
            "(778, 5)\n"
          ],
          "name": "stdout"
        }
      ]
    },
    {
      "cell_type": "code",
      "metadata": {
        "id": "NOxCLb6BeMaQ"
      },
      "source": [
        "# Model\n",
        "from keras.regularizers import l2 \n",
        "model = Sequential()\n",
        "model.add(layers.Dense(512, activation ='relu',input_shape = (IMG_SIZE*IMG_SIZE,)))\n",
        "model.add(layers.Dense(512, activation ='relu',input_shape = (IMG_SIZE*IMG_SIZE,)))\n",
        "model.add(layers.Dense(512, activation ='relu'))\n",
        "model.add(layers.Dense(64, activation ='relu'))\n",
        "model.add(layers.Dense(5,activation='softmax')) \n"
      ],
      "execution_count": null,
      "outputs": []
    },
    {
      "cell_type": "code",
      "metadata": {
        "colab": {
          "base_uri": "https://localhost:8080/"
        },
        "id": "6xDFePo4fJEG",
        "outputId": "82cde248-7dbd-427b-fdc3-091fb5fdbfad"
      },
      "source": [
        "model.summary()"
      ],
      "execution_count": null,
      "outputs": [
        {
          "output_type": "stream",
          "text": [
            "Model: \"sequential\"\n",
            "_________________________________________________________________\n",
            "Layer (type)                 Output Shape              Param #   \n",
            "=================================================================\n",
            "dense (Dense)                (None, 512)               1280512   \n",
            "_________________________________________________________________\n",
            "dense_1 (Dense)              (None, 512)               262656    \n",
            "_________________________________________________________________\n",
            "dense_2 (Dense)              (None, 512)               262656    \n",
            "_________________________________________________________________\n",
            "dense_3 (Dense)              (None, 64)                32832     \n",
            "_________________________________________________________________\n",
            "dense_4 (Dense)              (None, 5)                 325       \n",
            "=================================================================\n",
            "Total params: 1,838,981\n",
            "Trainable params: 1,838,981\n",
            "Non-trainable params: 0\n",
            "_________________________________________________________________\n"
          ],
          "name": "stdout"
        }
      ]
    },
    {
      "cell_type": "code",
      "metadata": {
        "colab": {
          "base_uri": "https://localhost:8080/"
        },
        "id": "gamCQ3Nze1yj",
        "outputId": "ea1ab930-cd5b-4bdb-c406-7b416c5c7827"
      },
      "source": [
        "model.compile(optimizer=tf.keras.optimizers.Adam(),loss='categorical_crossentropy',metrics=['accuracy'])\n",
        "history=model.fit(x_train,y_train,epochs=100,batch_size=128,validation_data=(x_val,y_val))"
      ],
      "execution_count": null,
      "outputs": [
        {
          "output_type": "stream",
          "text": [
            "Epoch 1/100\n",
            "15/15 [==============================] - 1s 50ms/step - loss: 1.6765 - accuracy: 0.2570 - val_loss: 1.5454 - val_accuracy: 0.2905\n",
            "Epoch 2/100\n",
            "15/15 [==============================] - 0s 33ms/step - loss: 1.5452 - accuracy: 0.2886 - val_loss: 1.5488 - val_accuracy: 0.3085\n",
            "Epoch 3/100\n",
            "15/15 [==============================] - 1s 34ms/step - loss: 1.5419 - accuracy: 0.2936 - val_loss: 1.5691 - val_accuracy: 0.2905\n",
            "Epoch 4/100\n",
            "15/15 [==============================] - 0s 33ms/step - loss: 1.5332 - accuracy: 0.2889 - val_loss: 1.5271 - val_accuracy: 0.2866\n",
            "Epoch 5/100\n",
            "15/15 [==============================] - 0s 33ms/step - loss: 1.5070 - accuracy: 0.3150 - val_loss: 1.5328 - val_accuracy: 0.2763\n",
            "Epoch 6/100\n",
            "15/15 [==============================] - 0s 33ms/step - loss: 1.5217 - accuracy: 0.3003 - val_loss: 1.5218 - val_accuracy: 0.2879\n",
            "Epoch 7/100\n",
            "15/15 [==============================] - 0s 33ms/step - loss: 1.5052 - accuracy: 0.3122 - val_loss: 1.5179 - val_accuracy: 0.3008\n",
            "Epoch 8/100\n",
            "15/15 [==============================] - 0s 33ms/step - loss: 1.4991 - accuracy: 0.3208 - val_loss: 1.5149 - val_accuracy: 0.3021\n",
            "Epoch 9/100\n",
            "15/15 [==============================] - 0s 33ms/step - loss: 1.4841 - accuracy: 0.3535 - val_loss: 1.5152 - val_accuracy: 0.2853\n",
            "Epoch 10/100\n",
            "15/15 [==============================] - 0s 33ms/step - loss: 1.4789 - accuracy: 0.3010 - val_loss: 1.5291 - val_accuracy: 0.2828\n",
            "Epoch 11/100\n",
            "15/15 [==============================] - 1s 34ms/step - loss: 1.4734 - accuracy: 0.3316 - val_loss: 1.5161 - val_accuracy: 0.2931\n",
            "Epoch 12/100\n",
            "15/15 [==============================] - 1s 33ms/step - loss: 1.4588 - accuracy: 0.3306 - val_loss: 1.5272 - val_accuracy: 0.2841\n",
            "Epoch 13/100\n",
            "15/15 [==============================] - 0s 33ms/step - loss: 1.4567 - accuracy: 0.3468 - val_loss: 1.5473 - val_accuracy: 0.3175\n",
            "Epoch 14/100\n",
            "15/15 [==============================] - 0s 33ms/step - loss: 1.4604 - accuracy: 0.3488 - val_loss: 1.5935 - val_accuracy: 0.2712\n",
            "Epoch 15/100\n",
            "15/15 [==============================] - 1s 34ms/step - loss: 1.4390 - accuracy: 0.3663 - val_loss: 1.5515 - val_accuracy: 0.3021\n",
            "Epoch 16/100\n",
            "15/15 [==============================] - 0s 33ms/step - loss: 1.4477 - accuracy: 0.3590 - val_loss: 1.5629 - val_accuracy: 0.2815\n",
            "Epoch 17/100\n",
            "15/15 [==============================] - 0s 33ms/step - loss: 1.4286 - accuracy: 0.3605 - val_loss: 1.5589 - val_accuracy: 0.3021\n",
            "Epoch 18/100\n",
            "15/15 [==============================] - 0s 34ms/step - loss: 1.3717 - accuracy: 0.3807 - val_loss: 1.5598 - val_accuracy: 0.3201\n",
            "Epoch 19/100\n",
            "15/15 [==============================] - 0s 33ms/step - loss: 1.4042 - accuracy: 0.3620 - val_loss: 1.9731 - val_accuracy: 0.2686\n",
            "Epoch 20/100\n",
            "15/15 [==============================] - 0s 33ms/step - loss: 1.4317 - accuracy: 0.3782 - val_loss: 1.6473 - val_accuracy: 0.2763\n",
            "Epoch 21/100\n",
            "15/15 [==============================] - 0s 33ms/step - loss: 1.3215 - accuracy: 0.4451 - val_loss: 1.5996 - val_accuracy: 0.2969\n",
            "Epoch 22/100\n",
            "15/15 [==============================] - 0s 33ms/step - loss: 1.2795 - accuracy: 0.4599 - val_loss: 1.6861 - val_accuracy: 0.2751\n",
            "Epoch 23/100\n",
            "15/15 [==============================] - 0s 32ms/step - loss: 1.2733 - accuracy: 0.4463 - val_loss: 1.6561 - val_accuracy: 0.2918\n",
            "Epoch 24/100\n",
            "15/15 [==============================] - 0s 34ms/step - loss: 1.2152 - accuracy: 0.4937 - val_loss: 1.6860 - val_accuracy: 0.3072\n",
            "Epoch 25/100\n",
            "15/15 [==============================] - 0s 33ms/step - loss: 1.1963 - accuracy: 0.5002 - val_loss: 1.7087 - val_accuracy: 0.3046\n",
            "Epoch 26/100\n",
            "15/15 [==============================] - 0s 33ms/step - loss: 1.1776 - accuracy: 0.5132 - val_loss: 1.9363 - val_accuracy: 0.2751\n",
            "Epoch 27/100\n",
            "15/15 [==============================] - 0s 33ms/step - loss: 1.2607 - accuracy: 0.4697 - val_loss: 1.7211 - val_accuracy: 0.3098\n",
            "Epoch 28/100\n",
            "15/15 [==============================] - 0s 33ms/step - loss: 1.1174 - accuracy: 0.5379 - val_loss: 1.9128 - val_accuracy: 0.3046\n",
            "Epoch 29/100\n",
            "15/15 [==============================] - 1s 34ms/step - loss: 1.0602 - accuracy: 0.5547 - val_loss: 1.8995 - val_accuracy: 0.3072\n",
            "Epoch 30/100\n",
            "15/15 [==============================] - 0s 34ms/step - loss: 1.0524 - accuracy: 0.5609 - val_loss: 1.7845 - val_accuracy: 0.3265\n",
            "Epoch 31/100\n",
            "15/15 [==============================] - 1s 34ms/step - loss: 1.0284 - accuracy: 0.5761 - val_loss: 1.9444 - val_accuracy: 0.3290\n",
            "Epoch 32/100\n",
            "15/15 [==============================] - 0s 33ms/step - loss: 0.9185 - accuracy: 0.6264 - val_loss: 2.0085 - val_accuracy: 0.2802\n",
            "Epoch 33/100\n",
            "15/15 [==============================] - 1s 34ms/step - loss: 0.8622 - accuracy: 0.6666 - val_loss: 1.9726 - val_accuracy: 0.2969\n",
            "Epoch 34/100\n",
            "15/15 [==============================] - 0s 34ms/step - loss: 0.8609 - accuracy: 0.6445 - val_loss: 2.0676 - val_accuracy: 0.2815\n",
            "Epoch 35/100\n",
            "15/15 [==============================] - 1s 35ms/step - loss: 0.8599 - accuracy: 0.6495 - val_loss: 2.4458 - val_accuracy: 0.2969\n",
            "Epoch 36/100\n",
            "15/15 [==============================] - 0s 33ms/step - loss: 0.8398 - accuracy: 0.6655 - val_loss: 2.2564 - val_accuracy: 0.2918\n",
            "Epoch 37/100\n",
            "15/15 [==============================] - 1s 34ms/step - loss: 0.7206 - accuracy: 0.7200 - val_loss: 2.6373 - val_accuracy: 0.2519\n",
            "Epoch 38/100\n",
            "15/15 [==============================] - 1s 34ms/step - loss: 0.9145 - accuracy: 0.6338 - val_loss: 2.2252 - val_accuracy: 0.2943\n",
            "Epoch 39/100\n",
            "15/15 [==============================] - 1s 35ms/step - loss: 0.7824 - accuracy: 0.6785 - val_loss: 2.7447 - val_accuracy: 0.2545\n",
            "Epoch 40/100\n",
            "15/15 [==============================] - 0s 33ms/step - loss: 0.8577 - accuracy: 0.6531 - val_loss: 2.2354 - val_accuracy: 0.2943\n",
            "Epoch 41/100\n",
            "15/15 [==============================] - 0s 33ms/step - loss: 0.8040 - accuracy: 0.6847 - val_loss: 2.2117 - val_accuracy: 0.3136\n",
            "Epoch 42/100\n",
            "15/15 [==============================] - 0s 33ms/step - loss: 0.7727 - accuracy: 0.6895 - val_loss: 2.9021 - val_accuracy: 0.2198\n",
            "Epoch 43/100\n",
            "15/15 [==============================] - 1s 34ms/step - loss: 0.9618 - accuracy: 0.6208 - val_loss: 2.3918 - val_accuracy: 0.2918\n",
            "Epoch 44/100\n",
            "15/15 [==============================] - 0s 33ms/step - loss: 0.6969 - accuracy: 0.7425 - val_loss: 2.7350 - val_accuracy: 0.2776\n",
            "Epoch 45/100\n",
            "15/15 [==============================] - 1s 34ms/step - loss: 0.7123 - accuracy: 0.7110 - val_loss: 2.5883 - val_accuracy: 0.3021\n",
            "Epoch 46/100\n",
            "15/15 [==============================] - 0s 33ms/step - loss: 0.6094 - accuracy: 0.7666 - val_loss: 2.6854 - val_accuracy: 0.3008\n",
            "Epoch 47/100\n",
            "15/15 [==============================] - 1s 35ms/step - loss: 0.6520 - accuracy: 0.7502 - val_loss: 2.5512 - val_accuracy: 0.2956\n",
            "Epoch 48/100\n",
            "15/15 [==============================] - 0s 33ms/step - loss: 0.5400 - accuracy: 0.8039 - val_loss: 2.6196 - val_accuracy: 0.3098\n",
            "Epoch 49/100\n",
            "15/15 [==============================] - 0s 33ms/step - loss: 0.4674 - accuracy: 0.8214 - val_loss: 2.6058 - val_accuracy: 0.3072\n",
            "Epoch 50/100\n",
            "15/15 [==============================] - 0s 33ms/step - loss: 0.4384 - accuracy: 0.8248 - val_loss: 2.8295 - val_accuracy: 0.3098\n",
            "Epoch 51/100\n",
            "15/15 [==============================] - 1s 35ms/step - loss: 0.4915 - accuracy: 0.8073 - val_loss: 2.9707 - val_accuracy: 0.3021\n",
            "Epoch 52/100\n",
            "15/15 [==============================] - 0s 33ms/step - loss: 0.4918 - accuracy: 0.8034 - val_loss: 3.1282 - val_accuracy: 0.2866\n",
            "Epoch 53/100\n",
            "15/15 [==============================] - 0s 33ms/step - loss: 0.4804 - accuracy: 0.8190 - val_loss: 2.9932 - val_accuracy: 0.3021\n",
            "Epoch 54/100\n",
            "15/15 [==============================] - 1s 35ms/step - loss: 0.4270 - accuracy: 0.8399 - val_loss: 3.3377 - val_accuracy: 0.2686\n",
            "Epoch 55/100\n",
            "15/15 [==============================] - 0s 33ms/step - loss: 0.5954 - accuracy: 0.7752 - val_loss: 2.9224 - val_accuracy: 0.2943\n",
            "Epoch 56/100\n",
            "15/15 [==============================] - 0s 33ms/step - loss: 0.4161 - accuracy: 0.8517 - val_loss: 2.8543 - val_accuracy: 0.3175\n",
            "Epoch 57/100\n",
            "15/15 [==============================] - 1s 34ms/step - loss: 0.5931 - accuracy: 0.7641 - val_loss: 3.0822 - val_accuracy: 0.2956\n",
            "Epoch 58/100\n",
            "15/15 [==============================] - 1s 34ms/step - loss: 0.5650 - accuracy: 0.7873 - val_loss: 3.0895 - val_accuracy: 0.2841\n",
            "Epoch 59/100\n",
            "15/15 [==============================] - 0s 33ms/step - loss: 0.5387 - accuracy: 0.7985 - val_loss: 2.9220 - val_accuracy: 0.2995\n",
            "Epoch 60/100\n",
            "15/15 [==============================] - 1s 34ms/step - loss: 0.3347 - accuracy: 0.8878 - val_loss: 3.3945 - val_accuracy: 0.3111\n",
            "Epoch 61/100\n",
            "15/15 [==============================] - 1s 34ms/step - loss: 0.4317 - accuracy: 0.8273 - val_loss: 3.4878 - val_accuracy: 0.2738\n",
            "Epoch 62/100\n",
            "15/15 [==============================] - 1s 34ms/step - loss: 0.5609 - accuracy: 0.7893 - val_loss: 2.9646 - val_accuracy: 0.2828\n",
            "Epoch 63/100\n",
            "15/15 [==============================] - 1s 34ms/step - loss: 0.5010 - accuracy: 0.8101 - val_loss: 3.1799 - val_accuracy: 0.3008\n",
            "Epoch 64/100\n",
            "15/15 [==============================] - 0s 33ms/step - loss: 0.5617 - accuracy: 0.7950 - val_loss: 2.8920 - val_accuracy: 0.3021\n",
            "Epoch 65/100\n",
            "15/15 [==============================] - 1s 34ms/step - loss: 0.3401 - accuracy: 0.8783 - val_loss: 3.3891 - val_accuracy: 0.3123\n",
            "Epoch 66/100\n",
            "15/15 [==============================] - 0s 33ms/step - loss: 0.3310 - accuracy: 0.8712 - val_loss: 3.8112 - val_accuracy: 0.2918\n",
            "Epoch 67/100\n",
            "15/15 [==============================] - 1s 34ms/step - loss: 0.3219 - accuracy: 0.8725 - val_loss: 3.8349 - val_accuracy: 0.3136\n",
            "Epoch 68/100\n",
            "15/15 [==============================] - 1s 34ms/step - loss: 0.2525 - accuracy: 0.9075 - val_loss: 3.7782 - val_accuracy: 0.2879\n",
            "Epoch 69/100\n",
            "15/15 [==============================] - 1s 34ms/step - loss: 0.2195 - accuracy: 0.9160 - val_loss: 3.8844 - val_accuracy: 0.2931\n",
            "Epoch 70/100\n",
            "15/15 [==============================] - 0s 34ms/step - loss: 0.1705 - accuracy: 0.9373 - val_loss: 4.3682 - val_accuracy: 0.3021\n",
            "Epoch 71/100\n",
            "15/15 [==============================] - 1s 34ms/step - loss: 0.2774 - accuracy: 0.9053 - val_loss: 3.8639 - val_accuracy: 0.3226\n",
            "Epoch 72/100\n",
            "15/15 [==============================] - 0s 33ms/step - loss: 0.3523 - accuracy: 0.8601 - val_loss: 3.8155 - val_accuracy: 0.2956\n",
            "Epoch 73/100\n",
            "15/15 [==============================] - 1s 34ms/step - loss: 0.2889 - accuracy: 0.8912 - val_loss: 4.8860 - val_accuracy: 0.3008\n",
            "Epoch 74/100\n",
            "15/15 [==============================] - 1s 34ms/step - loss: 0.7127 - accuracy: 0.7798 - val_loss: 2.5040 - val_accuracy: 0.2712\n",
            "Epoch 75/100\n",
            "15/15 [==============================] - 1s 36ms/step - loss: 0.7076 - accuracy: 0.7350 - val_loss: 3.0484 - val_accuracy: 0.2956\n",
            "Epoch 76/100\n",
            "15/15 [==============================] - 0s 33ms/step - loss: 0.5379 - accuracy: 0.7884 - val_loss: 3.1522 - val_accuracy: 0.2982\n",
            "Epoch 77/100\n",
            "15/15 [==============================] - 1s 34ms/step - loss: 0.4849 - accuracy: 0.8214 - val_loss: 2.9901 - val_accuracy: 0.3059\n",
            "Epoch 78/100\n",
            "15/15 [==============================] - 0s 33ms/step - loss: 0.2868 - accuracy: 0.9097 - val_loss: 3.5268 - val_accuracy: 0.3252\n",
            "Epoch 79/100\n",
            "15/15 [==============================] - 1s 34ms/step - loss: 0.2262 - accuracy: 0.9170 - val_loss: 3.7050 - val_accuracy: 0.3123\n",
            "Epoch 80/100\n",
            "15/15 [==============================] - 0s 32ms/step - loss: 0.1769 - accuracy: 0.9420 - val_loss: 4.3232 - val_accuracy: 0.2789\n",
            "Epoch 81/100\n",
            "15/15 [==============================] - 1s 34ms/step - loss: 0.2660 - accuracy: 0.9140 - val_loss: 3.9323 - val_accuracy: 0.3033\n",
            "Epoch 82/100\n",
            "15/15 [==============================] - 1s 34ms/step - loss: 0.1707 - accuracy: 0.9549 - val_loss: 4.2152 - val_accuracy: 0.2892\n",
            "Epoch 83/100\n",
            "15/15 [==============================] - 1s 34ms/step - loss: 0.2281 - accuracy: 0.9217 - val_loss: 4.1909 - val_accuracy: 0.3021\n",
            "Epoch 84/100\n",
            "15/15 [==============================] - 0s 33ms/step - loss: 0.4519 - accuracy: 0.8382 - val_loss: 4.2278 - val_accuracy: 0.2635\n",
            "Epoch 85/100\n",
            "15/15 [==============================] - 0s 34ms/step - loss: 0.6136 - accuracy: 0.7868 - val_loss: 3.3671 - val_accuracy: 0.2995\n",
            "Epoch 86/100\n",
            "15/15 [==============================] - 1s 34ms/step - loss: 0.4778 - accuracy: 0.8208 - val_loss: 3.3853 - val_accuracy: 0.3201\n",
            "Epoch 87/100\n",
            "15/15 [==============================] - 1s 35ms/step - loss: 0.3423 - accuracy: 0.8796 - val_loss: 3.3321 - val_accuracy: 0.3059\n",
            "Epoch 88/100\n",
            "15/15 [==============================] - 0s 33ms/step - loss: 0.1594 - accuracy: 0.9483 - val_loss: 3.9668 - val_accuracy: 0.3111\n",
            "Epoch 89/100\n",
            "15/15 [==============================] - 1s 35ms/step - loss: 0.1384 - accuracy: 0.9517 - val_loss: 4.4130 - val_accuracy: 0.2918\n",
            "Epoch 90/100\n",
            "15/15 [==============================] - 0s 33ms/step - loss: 0.1102 - accuracy: 0.9659 - val_loss: 4.3220 - val_accuracy: 0.2892\n",
            "Epoch 91/100\n",
            "15/15 [==============================] - 1s 34ms/step - loss: 0.0871 - accuracy: 0.9747 - val_loss: 4.4943 - val_accuracy: 0.3059\n",
            "Epoch 92/100\n",
            "15/15 [==============================] - 1s 34ms/step - loss: 0.0798 - accuracy: 0.9735 - val_loss: 4.7134 - val_accuracy: 0.3072\n",
            "Epoch 93/100\n",
            "15/15 [==============================] - 1s 36ms/step - loss: 0.0686 - accuracy: 0.9780 - val_loss: 4.7744 - val_accuracy: 0.3201\n",
            "Epoch 94/100\n",
            "15/15 [==============================] - 0s 34ms/step - loss: 0.1630 - accuracy: 0.9477 - val_loss: 5.1302 - val_accuracy: 0.2892\n",
            "Epoch 95/100\n",
            "15/15 [==============================] - 1s 36ms/step - loss: 0.3963 - accuracy: 0.8606 - val_loss: 4.2408 - val_accuracy: 0.2879\n",
            "Epoch 96/100\n",
            "15/15 [==============================] - 0s 33ms/step - loss: 0.3160 - accuracy: 0.8836 - val_loss: 3.8732 - val_accuracy: 0.3008\n",
            "Epoch 97/100\n",
            "15/15 [==============================] - 1s 34ms/step - loss: 0.1902 - accuracy: 0.9340 - val_loss: 4.4938 - val_accuracy: 0.3059\n",
            "Epoch 98/100\n",
            "15/15 [==============================] - 1s 34ms/step - loss: 0.4162 - accuracy: 0.8568 - val_loss: 3.8082 - val_accuracy: 0.2982\n",
            "Epoch 99/100\n",
            "15/15 [==============================] - 1s 35ms/step - loss: 0.1685 - accuracy: 0.9470 - val_loss: 4.3805 - val_accuracy: 0.3046\n",
            "Epoch 100/100\n",
            "15/15 [==============================] - 1s 34ms/step - loss: 0.1251 - accuracy: 0.9622 - val_loss: 4.4541 - val_accuracy: 0.2956\n"
          ],
          "name": "stdout"
        }
      ]
    },
    {
      "cell_type": "code",
      "metadata": {
        "colab": {
          "base_uri": "https://localhost:8080/",
          "height": 294
        },
        "id": "1FYNaRhURXlW",
        "outputId": "1a046f1c-2214-4f8e-f201-378de5769d5a"
      },
      "source": [
        "# Graph between training loss and validation loss\n",
        "history_dict=history.history\n",
        "train_loss=history_dict['loss']\n",
        "val_loss=history_dict['val_loss']\n",
        "epochs=range(1,len(train_loss)+1)\n",
        "plt.plot(epochs,train_loss,'r',label='Training Loss')\n",
        "plt.plot(epochs,val_loss,'g',label='Validation Loss')\n",
        "plt.title('Traning and Validation Loss')\n",
        "plt.ylabel('Loss')\n",
        "plt.xlabel('Epochs')\n",
        "plt.legend()\n",
        "plt.show()"
      ],
      "execution_count": null,
      "outputs": [
        {
          "output_type": "display_data",
          "data": {
            "image/png": "[encoded data removed]",
            "text/plain": [
              "<Figure size 432x288 with 1 Axes>"
            ]
          },
          "metadata": {
            "tags": [],
            "needs_background": "light"
          }
        }
      ]
    },
    {
      "cell_type": "code",
      "metadata": {
        "colab": {
          "base_uri": "https://localhost:8080/",
          "height": 294
        },
        "id": "Fqwcqr9IRkjU",
        "outputId": "f3f29ad5-939d-4f11-f3d4-6b50601f11cf"
      },
      "source": [
        "# Graph between training and validation accuracy\n",
        "history_dict=history.history\n",
        "train_accuracy=history_dict['accuracy']\n",
        "val_accuracy=history_dict['val_accuracy']\n",
        "epochs=range(1,len(train_accuracy)+1)\n",
        "plt.plot(epochs,train_accuracy,'r',label='Training Accuracy')\n",
        "plt.plot(epochs,val_accuracy,'g',label='Validation Accuracy')\n",
        "plt.title('Traning and Validation Accuracy')\n",
        "plt.ylabel('Accuracy')\n",
        "plt.xlabel('Epochs')\n",
        "plt.legend()\n",
        "plt.show()"
      ],
      "execution_count": null,
      "outputs": [
        {
          "output_type": "display_data",
          "data": {
            "image/png": "[encoded data removed]",
            "text/plain": [
              "<Figure size 432x288 with 1 Axes>"
            ]
          },
          "metadata": {
            "tags": [],
            "needs_background": "light"
          }
        }
      ]
    },
    {
      "cell_type": "code",
      "metadata": {
        "id": "D9DKWIrJRxKI"
      },
      "source": [
        "#combine train and val data\n",
        "train_data=np.concatenate([x_train,x_val])\n",
        "train_targets=np.concatenate([y_train,y_val])"
      ],
      "execution_count": null,
      "outputs": []
    },
    {
      "cell_type": "code",
      "metadata": {
        "colab": {
          "base_uri": "https://localhost:8080/"
        },
        "id": "CXdm4UNgfjPm",
        "outputId": "388b0ba0-0102-4898-ff26-935bd988cf33"
      },
      "source": [
        "# Evaluate\n",
        "\n",
        "model = Sequential()\n",
        "model.add(layers.Dense(512, activation ='relu' ,input_shape = (IMG_SIZE*IMG_SIZE,)))\n",
        "model.add(layers.Dense(512, activation ='relu' ,input_shape = (IMG_SIZE*IMG_SIZE,)))\n",
        "model.add(layers.Dense(64, activation ='relu'))\n",
        "model.add(layers.Dense(5,activation='softmax')) \n",
        "model.compile(optimizer=tf.keras.optimizers.Adam(),loss='categorical_crossentropy',metrics=['accuracy'])\n",
        "model.fit(train_data,train_targets,epochs=100,batch_size=128,verbose=0)\n",
        "results=model.evaluate(x_test,y_test)\n",
        "print(results)"
      ],
      "execution_count": null,
      "outputs": [
        {
          "output_type": "stream",
          "text": [
            "55/55 [==============================] - 0s 4ms/step - loss: 4.7022 - accuracy: 0.3214\n",
            "[4.702167987823486, 0.32138729095458984]\n"
          ],
          "name": "stdout"
        }
      ]
    },
    {
      "cell_type": "code",
      "metadata": {
        "colab": {
          "base_uri": "https://localhost:8080/"
        },
        "id": "CoeIHRh9SDJM",
        "outputId": "92419be3-2292-4b66-b3f8-80f17f3a11ba"
      },
      "source": [
        "# Prediction\n",
        "\n",
        "pred=model.predict(x_test)\n",
        "pred_digits=np.argmax(pred,axis=1)\n",
        "print(pred_digits)"
      ],
      "execution_count": null,
      "outputs": [
        {
          "output_type": "stream",
          "text": [
            "[0 4 1 ... 2 0 2]\n"
          ],
          "name": "stdout"
        }
      ]
    },
    {
      "cell_type": "code",
      "metadata": {
        "colab": {
          "base_uri": "https://localhost:8080/"
        },
        "id": "FRO0cvQubPh3",
        "outputId": "9f03307d-7c07-4fa1-8643-3a615887994a"
      },
      "source": [
        "print(pred_digits[0]) \n",
        "print(y_test[0]) "
      ],
      "execution_count": null,
      "outputs": [
        {
          "output_type": "stream",
          "text": [
            "0\n",
            "[0. 0. 1. 0. 0.]\n"
          ],
          "name": "stdout"
        }
      ]
    },
    {
      "cell_type": "code",
      "metadata": {
        "id": "3GgCI9bJbSQq"
      },
      "source": [
        "# prediction and test outputs are different"
      ],
      "execution_count": null,
      "outputs": []
    }
  ]
}